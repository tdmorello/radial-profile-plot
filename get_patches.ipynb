{
 "metadata": {
  "language_info": {
   "codemirror_mode": {
    "name": "ipython",
    "version": 3
   },
   "file_extension": ".py",
   "mimetype": "text/x-python",
   "name": "python",
   "nbconvert_exporter": "python",
   "pygments_lexer": "ipython3",
   "version": "3.8.8"
  },
  "orig_nbformat": 2,
  "kernelspec": {
   "name": "python388jvsc74a57bd063e9b93be6f93bdc90c3eaa4a06a48d29a5ac3f081d010ed34cd93b1dbc123a9",
   "display_name": "Python 3.8.8 64-bit ('venv')"
  },
  "metadata": {
   "interpreter": {
    "hash": "63e9b93be6f93bdc90c3eaa4a06a48d29a5ac3f081d010ed34cd93b1dbc123a9"
   }
  }
 },
 "nbformat": 4,
 "nbformat_minor": 2,
 "cells": [
  {
   "source": [
    "## Retrieve a patch of specified size from anywhere there is a cell detection.\n",
    "\n",
    "Based on https://github.com/choosehappy/QuPathGeoJSONImportExport/blob/master/classify_geojson_objects_in_wsi_centeroid_based_withlevel_mask.py"
   ],
   "cell_type": "markdown",
   "metadata": {}
  },
  {
   "cell_type": "code",
   "execution_count": null,
   "metadata": {
    "tags": []
   },
   "outputs": [],
   "source": [
    "from pathlib import Path\n",
    "from math import ceil\n",
    "\n",
    "import numpy as np\n",
    "import matplotlib.pyplot as plt\n",
    "import matplotlib.gridspec as gridspec\n",
    "from tqdm.notebook import tqdm\n",
    "import geojson\n",
    "from shapely.geometry import Polygon, shape, box\n",
    "\n",
    "from shapely.strtree import STRtree\n",
    "from shapely.affinity import translate\n",
    "import pandas as pd\n",
    "\n",
    "# from utils import BioFormatsReader\n",
    "from patch import Patch\n",
    "from tiler import Tiler\n",
    "from radial_profiler import get_radial_profiles, RadialProfilePlotter, RadialProfiler\n",
    "\n",
    "from rasterio.features import rasterize\n",
    "\n",
    "import logging\n",
    "\n",
    "from scipy import ndimage\n",
    "from skimage.measure import find_contours\n",
    "from skimage.morphology import binary_dilation, disk\n",
    "from skimage.exposure import equalize_hist\n",
    "from skimage.color import gray2rgb\n",
    "\n",
    "from bioformatsreader import BioFormatsReader\n",
    "\n",
    "# import javabridge\n",
    "# import bioformats\n",
    "# javabridge.start_vm(class_path=bioformats.JARS)\n",
    "\n",
    "logger = logging.getLogger(__name__)\n",
    "logger.setLevel(logging.DEBUG)\n",
    "logging.getLogger('rasterio').setLevel(logging.ERROR)\n",
    "\n",
    "%matplotlib inline\n",
    "%load_ext line_profiler"
   ]
  },
  {
   "cell_type": "code",
   "execution_count": null,
   "metadata": {},
   "outputs": [],
   "source": [
    "tilesize = 2000 # size of the tile to load \n",
    "patchsize = 200 # patch size needed by our DL model \n",
    "\n",
    "minhits = 5 # the minimum number of objects needed to be present within a tile for the tile to be computed on\n",
    "\n",
    "json_fname = 'data/b41f-sag_L-neun_pv-w09_2-cla-63x-detections_null.json'\n",
    "wsi_fname = 'data/b41f-sag_L-neun_pv-w09_2-cla-63x.czi'\n",
    "# channel_order = [1, 2, 0]  # G, B, R\n",
    "titles = ['NEUN', 'DAPI', 'PV']\n",
    "colors = ['green', 'blue', 'red']\n",
    "\n",
    "search_area = Polygon([[1968, 6266], [4485, 6266], [4485, 8782], [1968, 8782]])  # the area to search for hits, can be coordinates, a json, or "
   ]
  },
  {
   "cell_type": "code",
   "execution_count": null,
   "metadata": {},
   "outputs": [],
   "source": [
    "with open(json_fname) as f:\n",
    "    allobjects = geojson.load(f)\n",
    "logger.debug(\"Loaded detections\")\n",
    "\n",
    "allshapes = [shape(obj[\"nucleusGeometry\"] if \"nucleusGeometry\" in obj.keys() else obj[\"geometry\"]) for obj in allobjects]\n",
    "allcenters = [s.centroid  for s in allshapes]\n",
    "logger.debug(\"Converted %d objects\", len(allcenters))\n",
    "\n",
    "for i in range(len(allshapes)):\n",
    "        allcenters[i].id = i\n",
    "\n",
    "searchtree = STRtree(allcenters)\n",
    "logger.debug(\"Built search tree\")\n",
    "\n",
    "reader = BioFormatsReader(wsi_fname)\n",
    "\n",
    "def reader_func(*args):\n",
    "    X, Y, W, H = args[0], args[1], args[3], args[4]\n",
    "    return reader.read(XYWH=(X, Y, W, H))\n",
    "\n",
    "sizeX, sizeY, sizeC = (reader.rdr.getSizeX(), reader.rdr.getSizeY(), reader.rdr.getSizeC())\n",
    "paddingsize = patchsize // 2\n",
    "logger.debug('Read image')"
   ]
  },
  {
   "cell_type": "code",
   "execution_count": null,
   "metadata": {
    "tags": []
   },
   "outputs": [],
   "source": [
    "%%time\n",
    "\n",
    "profile_plots = {}\n",
    "tiler = Tiler(data_shape=(sizeX, sizeY, sizeC),\n",
    "            tile_shape=(tilesize, tilesize, sizeC),\n",
    "            overlap=paddingsize,\n",
    "            mode='constant')\n",
    "\n",
    "detection_count = 0\n",
    "\n",
    "# for tile_idx, tile in tqdm(tiler.iterate(reader_func), desc='Iterating tiles', total=len(tiler), leave=True):\n",
    "for tile_idx in tqdm(range(len(tiler)), desc='Iterating tiles', leave=True):\n",
    "    tile_bbox = tiler.get_tile_bbox_position(tile_idx)\n",
    "    X, Y = tile_bbox[0][0:2]\n",
    "    # shrink the box that searches for polygons so any patch would fit entirely inside the tile\n",
    "    search_box = Polygon([\n",
    "        (X+paddingsize, Y+paddingsize),\n",
    "        (X+tilesize-paddingsize, Y+paddingsize),\n",
    "        (X+tilesize-paddingsize, Y+tilesize-paddingsize),\n",
    "        (X+paddingsize, Y+tilesize-paddingsize)\n",
    "        ])\n",
    "\n",
    "    hits = searchtree.query(search_box)\n",
    "    if len(hits) < minhits:\n",
    "        continue\n",
    "    logger.debug('Found %d detections', len(hits))\n",
    "    detection_count += len(hits)\n",
    "\n",
    "    tile = tiler.get_tile(reader_func, tile_idx)\n",
    "\n",
    "    # Make a list of ids and polygons (detections)\n",
    "    ids = [hit.id for hit in hits]\n",
    "    polygons = [allshapes[id_] for id_ in ids]\n",
    "    imgs = []\n",
    "    # Get image patches\n",
    "    imgs = np.empty((len(hits), patchsize, patchsize, sizeC), dtype=tile.dtype)\n",
    "    for idx, hit in enumerate(hits):\n",
    "        # hit_X, hit_Y = hit.coords[:][0]\n",
    "        c, r = int(hit.x - X), int(hit.y - Y)\n",
    "        imgs[idx, ...] = tile[r - patchsize // 2: r + patchsize // 2, c - patchsize // 2: c + patchsize // 2, ...]\n",
    "\n",
    "    # Create Patch objects\n",
    "    patches = [Patch(imgs[idx, ...], polygons[idx], ids[idx]) for idx in range(len(hits))]\n",
    "    logger.debug('Created %d patches', len(patches))\n",
    "\n",
    "    # Process this batch\n",
    "    for p in tqdm(patches, desc='Creating plots', leave=False):\n",
    "        # Keep plots identifiable by their keys\n",
    "        profs = get_radial_profiles(p.get_image(), p.get_mask(), 30, 50)\n",
    "        profs_dict = {}\n",
    "        for ch, titl in enumerate(titles):\n",
    "            profs_dict[titl] = profs[ch]\n",
    "        profile_plots[p.id] = profs_dict\n",
    "logger.info('Processed %d detections', detection_count)"
   ]
  },
  {
   "cell_type": "code",
   "execution_count": null,
   "metadata": {
    "tags": []
   },
   "outputs": [],
   "source": [
    "df_ids = []\n",
    "df_plot_keys = []\n",
    "df_profiles = []\n",
    "# Format for pandas dataframe\n",
    "for id_, profiles in profile_plots.items():\n",
    "    for titl, arr in profiles.items():\n",
    "        df_ids.append(id_)\n",
    "        df_plot_keys.append(titl)\n",
    "        df_profiles.append(arr)\n",
    "\n",
    "df = pd.DataFrame({'plot_key': df_plot_keys, 'profiles': df_profiles}, index=df_ids)"
   ]
  },
  {
   "cell_type": "code",
   "execution_count": null,
   "metadata": {},
   "outputs": [],
   "source": [
    "for titl, color in zip(titles, colors):\n",
    "    profs = df[df['plot_key'] == titl]['profiles'].array\n",
    "    avg = np.mean(profs, axis=0)\n",
    "    X = np.arange(0, len(avg))\n",
    "    std_dev = np.std(profs.to_numpy(), axis=0)\n",
    "    upper_err = avg + std_dev\n",
    "    lower_err = avg - std_dev\n",
    "    plt.plot(X, avg, c=color)\n",
    "    # plt.errorbar(X, avg, std_dev, c=color)\n",
    "    # plt.fill_between(X, upper_err, lower_err, color=color, alpha=0.1)"
   ]
  },
  {
   "cell_type": "code",
   "execution_count": null,
   "metadata": {},
   "outputs": [],
   "source": []
  }
 ]
}