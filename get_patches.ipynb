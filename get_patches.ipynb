{
 "metadata": {
  "language_info": {
   "codemirror_mode": {
    "name": "ipython",
    "version": 3
   },
   "file_extension": ".py",
   "mimetype": "text/x-python",
   "name": "python",
   "nbconvert_exporter": "python",
   "pygments_lexer": "ipython3",
   "version": "3.8.8"
  },
  "orig_nbformat": 2,
  "kernelspec": {
   "name": "pythonjvsc74a57bd063e9b93be6f93bdc90c3eaa4a06a48d29a5ac3f081d010ed34cd93b1dbc123a9",
   "display_name": "Python 3.8.8  ('venv': venv)"
  },
  "metadata": {
   "interpreter": {
    "hash": "63e9b93be6f93bdc90c3eaa4a06a48d29a5ac3f081d010ed34cd93b1dbc123a9"
   }
  }
 },
 "nbformat": 4,
 "nbformat_minor": 2,
 "cells": [
  {
   "source": [
    "Retrieve a patch of specified size from anywhere there is a cell detection.\n",
    "\n",
    "Based on https://github.com/choosehappy/QuPathGeoJSONImportExport/blob/master/classify_geojson_objects_in_wsi_centeroid_based_withlevel_mask.py"
   ],
   "cell_type": "markdown",
   "metadata": {}
  },
  {
   "cell_type": "code",
   "execution_count": 1,
   "metadata": {},
   "outputs": [],
   "source": [
    "tilesize = 5000 #size of the tile to load from openslide \n",
    "patchsize = 150 #patch size needed by our DL model \n",
    "\n",
    "minhits = 100 #the minimum number of objects needed to be present within a tile for the tile to be computed on\n",
    "classnames=[\"Other\",\"Lymphocyte\"] #the names of those classes which will appear in QuPath later on \n",
    "colors = [-377282,-9408287] #their associated color, see selection of different color values at the bottom of the file\n",
    "\n",
    "json_fname=r'data/detections.json' #input geojson file\n",
    "json_annotated_fname=r'data/detections_anno.json' #target output geojson file\n",
    "wsi_fname=\"data/b32f-sag_L-lxn_pv-w03_2-cla-63x-proc.czi\" #whole slide image fname to load cells from which coincide with the json file"
   ]
  },
  {
   "cell_type": "code",
   "execution_count": 2,
   "metadata": {
    "tags": []
   },
   "outputs": [],
   "source": [
    "from pathlib import Path\n",
    "from math import ceil\n",
    "\n",
    "import numpy as np\n",
    "import matplotlib.pyplot as plt\n",
    "from tqdm.autonotebook import tqdm\n",
    "\n",
    "import geojson\n",
    "from shapely.geometry import shape\n",
    "from shapely.strtree import STRtree\n",
    "from shapely.geometry import Point\n",
    "from shapely.geometry import Polygon\n",
    "\n",
    "import bioformats\n",
    "import javabridge\n",
    "javabridge.start_vm(class_path=bioformats.JARS)\n",
    "\n",
    "%matplotlib notebook"
   ]
  },
  {
   "cell_type": "code",
   "execution_count": 3,
   "metadata": {},
   "outputs": [
    {
     "output_type": "stream",
     "name": "stdout",
     "text": [
      "done loading\n"
     ]
    }
   ],
   "source": [
    "if json_fname.endswith(\".gz\"):\n",
    "    with gzip.GzipFile(json_fname, 'r') as f:\n",
    "        allobjects = geojson.loads(f.read(), encoding= 'ascii')\n",
    "else:\n",
    "    with open(json_fname) as f:\n",
    "        allobjects = geojson.load(f)\n",
    "\n",
    "print(\"done loading\")"
   ]
  },
  {
   "cell_type": "code",
   "execution_count": 4,
   "metadata": {},
   "outputs": [
    {
     "output_type": "stream",
     "name": "stdout",
     "text": [
      "done converting\ndone building tree\n"
     ]
    }
   ],
   "source": [
    "allshapes = [shape(obj[\"nucleusGeometry\"] if \"nucleusGeometry\" in obj.keys() else obj[\"geometry\"]) for obj in allobjects]\n",
    "allcenters = [s.centroid  for s in allshapes]\n",
    "print(\"done converting\")\n",
    "\n",
    "for i in range(len(allshapes)):\n",
    "        allcenters[i].id = i\n",
    "\n",
    "searchtree = STRtree(allcenters)\n",
    "print(\"done building tree\")"
   ]
  },
  {
   "cell_type": "code",
   "execution_count": 13,
   "metadata": {},
   "outputs": [
    {
     "output_type": "stream",
     "name": "stdout",
     "text": [
      "12960\n"
     ]
    }
   ],
   "source": [
    "reader = bioformats.ImageReader(wsi_fname)\n",
    "XYWH = (3000, 2000, 1000, 1000)\n",
    "print(reader.rdr.getSizeX())\n",
    "# reader.read(c=1, XYWH=XYWH)\n",
    "\n",
    "# wsi_shape = reader.get_sizeX\n",
    "# nrow = ceil(wsi_shape[0] / tilesize)\n",
    "# ncol = ceil(wsi_shape[1] / tilesize)\n",
    "\n",
    "# scalefactor= 1\n",
    "# paddingsize = patchsize // 2*scalefactor\n",
    "\n",
    "# int_coords = lambda x: np.array(x).round().astype(np.int32)"
   ]
  },
  {
   "cell_type": "code",
   "execution_count": null,
   "metadata": {
    "tags": []
   },
   "outputs": [],
   "source": [
    "for y in tqdm(range(0, wsi_shape[0], round(tilesize * scalefactor)), desc=\"outer\" , leave=False):\n",
    "    for x in tqdm(range(0, wsi_shape[1], round(tilesize * scalefactor)), desc=f\"inner {y}\", leave=False):            \n",
    "\n",
    "        tilepoly = Polygon([[x,y],[x+tilesize*scalefactor,y],\n",
    "                            [x+tilesize*scalefactor,y+tilesize*scalefactor],\n",
    "                            [x,y+tilesize*scalefactor]])\n",
    "        hits=searchtree.query(tilepoly)\n",
    "\n",
    "        if len(hits) < minhits:\n",
    "            continue\n",
    "\n",
    "        XYWH = (x-paddingsize, y-paddingsize, tilesize+2*paddingsize, tilesize+2*paddingsize)\n",
    "        tile  = np.asarray(reader.read_image(c=0, XYWH=XYWH))\n",
    "\n",
    "        shape_out = []\n",
    "        arr_out = np.zeros((len(hits),patchsize,patchsize))\n",
    "        id_out = np.zeros((len(hits),1))\n",
    "\n",
    "\n",
    "        #---- get patches from hits within this tile and stick them (and their ids) into matricies\n",
    "        for hit,arr,id in zip(hits,arr_out,id_out):\n",
    "            px,py=hit.coords[:][0]  #this way is faster than using hit.x and hit.y, likely because of call stack overhead\n",
    "            c=int((px-x+paddingsize)//scalefactor)\n",
    "            r=int((py-y+paddingsize)//scalefactor)\n",
    "            patch = tile[r - patchsize // 2:r + patchsize // 2, c - patchsize // 2:c + patchsize // 2]\n",
    "\n",
    "            shape_out.append(hit)\n",
    "            arr[:] = patch\n",
    "            id[:]=hit.id"
   ]
  },
  {
   "cell_type": "code",
   "execution_count": null,
   "metadata": {},
   "outputs": [],
   "source": [
    "fig, axs = plt.subplots(5, 5, figsize=(10,10))\n",
    "axs = axs.ravel()\n",
    "\n",
    "rnd_idxs = np.sort(np.random.choice(range(0, arr.shape[0]), 25, replace=False))\n",
    "\n",
    "rnd_imgs = [arr_out[idx][:][:] for idx in rnd_idxs]\n",
    "rnd_ids = [id_out[idx] for idx in rnd_idxs]\n",
    "\n",
    "for ax, img, id_ in zip(axs, rnd_imgs, rnd_ids):\n",
    "    ax.imshow(img)\n",
    "    ax.axis('off')\n",
    "    ax.text(0.5, 0.05, f'id:{int(id_)}', color='white', fontsize=14, horizontalalignment='center', verticalalignment='center', transform=ax.transAxes)\n",
    "\n",
    "fig.tight_layout()"
   ]
  },
  {
   "cell_type": "code",
   "execution_count": null,
   "metadata": {},
   "outputs": [],
   "source": []
  }
 ]
}